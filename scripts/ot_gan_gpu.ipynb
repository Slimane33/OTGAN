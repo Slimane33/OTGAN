{
  "nbformat": 4,
  "nbformat_minor": 0,
  "metadata": {
    "colab": {
      "name": "ot_gan_gpu.ipynb",
      "provenance": [],
      "collapsed_sections": []
    },
    "kernelspec": {
      "name": "python3",
      "display_name": "Python 3"
    },
    "accelerator": "GPU"
  },
  "cells": [
    {
      "cell_type": "code",
      "metadata": {
        "id": "Dh69TJHokAUW",
        "colab_type": "code",
        "outputId": "e6d5d1e9-829c-4839-c094-e81951d6fc8c",
        "colab": {
          "base_uri": "https://localhost:8080/",
          "height": 35
        }
      },
      "source": [
        "from time import time\n",
        "from multiprocessing import cpu_count\n",
        "\n",
        "import numpy as np\n",
        "import matplotlib.pyplot as plt\n",
        "import torch\n",
        "import torch.nn as nn\n",
        "import torch.nn.functional as F\n",
        "import torch.optim as optim\n",
        "from torch.autograd import Variable\n",
        "from torch.utils import data\n",
        "from keras.datasets import mnist"
      ],
      "execution_count": 0,
      "outputs": [
        {
          "output_type": "stream",
          "text": [
            "Using TensorFlow backend.\n"
          ],
          "name": "stderr"
        }
      ]
    },
    {
      "cell_type": "code",
      "metadata": {
        "id": "7uJiJ2yhQRzB",
        "colab_type": "code",
        "colab": {}
      },
      "source": [
        "# GPU configuration\n",
        "use_gpu = torch.cuda.is_available()\n",
        "device = torch.device(\"cuda:0\" if use_gpu else \"cpu\")"
      ],
      "execution_count": 0,
      "outputs": []
    },
    {
      "cell_type": "markdown",
      "metadata": {
        "id": "zt9mVG5lIP6g",
        "colab_type": "text"
      },
      "source": [
        "# Get MNIST data inside a DataLoader"
      ]
    },
    {
      "cell_type": "code",
      "metadata": {
        "id": "T6bfJsUqHRMQ",
        "colab_type": "code",
        "colab": {}
      },
      "source": [
        "class Dataset(data.Dataset):\n",
        "    def __init__(self, mnist1, mnist2):\n",
        "        self.mnist1 = mnist1\n",
        "        self.mnist2 = mnist2\n",
        "\n",
        "    def __len__(self):\n",
        "        return self.mnist1.shape[0]\n",
        "\n",
        "    def __getitem__(self, index):\n",
        "        return self.mnist1[index], self.mnist2[index]"
      ],
      "execution_count": 0,
      "outputs": []
    },
    {
      "cell_type": "code",
      "metadata": {
        "id": "f1FxAgaQIUBF",
        "colab_type": "code",
        "colab": {}
      },
      "source": [
        "# Get MNIST pictures as Torch dataloader\n",
        "(mnist_data, _), (_, _) = mnist.load_data() # We only care about images\n",
        "mnist_data = mnist_data / 255.\n",
        "mnist_data = np.expand_dims(mnist_data, axis=3) # Add a channel dimension\n",
        "# Compute two shuffled MNIST datasets\n",
        "mnist_data1 = mnist_data[np.random.permutation(mnist_data.shape[0]),:,:]\n",
        "mnist_data2 = mnist_data[np.random.permutation(mnist_data.shape[0]),:,:]"
      ],
      "execution_count": 0,
      "outputs": []
    },
    {
      "cell_type": "code",
      "metadata": {
        "id": "GPARxuW0z6hd",
        "colab_type": "code",
        "colab": {}
      },
      "source": [
        "mnist_dataset = Dataset(mnist_data1, mnist_data2)\n",
        "mnist_dataloader = data.DataLoader(mnist_dataset, batch_size=128, \n",
        "                                   shuffle=True, num_workers=cpu_count())"
      ],
      "execution_count": 0,
      "outputs": []
    },
    {
      "cell_type": "markdown",
      "metadata": {
        "id": "1lpuc57xkX7x",
        "colab_type": "text"
      },
      "source": [
        "# OT-GAN"
      ]
    },
    {
      "cell_type": "code",
      "metadata": {
        "id": "axC1hgE-kZDV",
        "colab_type": "code",
        "colab": {}
      },
      "source": [
        "class Generator(nn.Module):\n",
        "    def __init__(self, input_size, hidden_size_1, hidden_size_2,\n",
        "                 output_size, output_shape):\n",
        "        super(Generator, self).__init__()\n",
        "        self.map1 = nn.Linear(input_size, hidden_size_1)\n",
        "        self.map2 = nn.Linear(hidden_size_1, hidden_size_2)\n",
        "        self.map3 = nn.Linear(hidden_size_2, output_size)\n",
        "        self.f = nn.LeakyReLU(negative_slope=0.2)\n",
        "        self.output_shape = output_shape\n",
        "\n",
        "    def forward(self, x):\n",
        "        x = self.f(self.map1(x))\n",
        "        x = self.f(self.map2(x))\n",
        "        x = torch.sigmoid(self.map3(x))\n",
        "        return torch.reshape(x, (-1,)+self.output_shape)"
      ],
      "execution_count": 0,
      "outputs": []
    },
    {
      "cell_type": "code",
      "metadata": {
        "id": "StPNp6QHkcFm",
        "colab_type": "code",
        "colab": {}
      },
      "source": [
        "class Critic(nn.Module):\n",
        "    def __init__(self, input_size, hidden_size_1, hidden_size_2, output_size):\n",
        "        super(Critic, self).__init__()\n",
        "        self.map1 = nn.Linear(input_size, hidden_size_1)\n",
        "        self.map2 = nn.Linear(hidden_size_1, hidden_size_2)\n",
        "        self.map3 = nn.Linear(hidden_size_2, output_size)\n",
        "        self.f = nn.LeakyReLU(negative_slope=0.2)\n",
        "\n",
        "    def forward(self, x):\n",
        "        x = nn.Flatten()(x)\n",
        "        x = self.f(self.map1(x))\n",
        "        x = self.f(self.map2(x))\n",
        "        return self.map3(x)"
      ],
      "execution_count": 0,
      "outputs": []
    },
    {
      "cell_type": "code",
      "metadata": {
        "id": "C5siAOXTkd8N",
        "colab_type": "code",
        "colab": {}
      },
      "source": [
        "class GAN():\n",
        "    \n",
        "    def __init__(self, dataloader, gen_params, critic_params, z_dim):\n",
        "\n",
        "        self.dataloader = dataloader\n",
        "\n",
        "        # default parameters for mnist \n",
        "        self.img_rows = dataloader.dataset[0][0].shape[0]\n",
        "        self.img_cols = dataloader.dataset[0][0].shape[1]\n",
        "        self.img_channels = dataloader.dataset[0][0].shape[2]\n",
        "        self.img_shape = (self.img_rows, self.img_cols, self.img_channels)\n",
        "        self.z_dim = z_dim\n",
        "        \n",
        "        self.generator = Generator(*gen_params).to(device)\n",
        "        self.critic = Critic(*critic_params).to(device)\n",
        "        \n",
        "    def sample_data(self, n_sample=100):\n",
        "        z_random = np.random.randn(n_sample, self.z_dim)\n",
        "        z_random = torch.FloatTensor(z_random).to(device)\n",
        "        samples = self.generator(z_random)\n",
        "        samples = samples.detach().cpu().numpy()\n",
        "        return samples\n",
        "\n",
        "    def sinkhorn(self, a, b, C, reg=0.001, max_iters=100):\n",
        "    \n",
        "        K = torch.exp(-C/reg)\n",
        "        u = torch.ones_like(a).to(device)\n",
        "        v = torch.ones_like(b).to(device)\n",
        "        for i in range(max_iters):\n",
        "            u = a / torch.matmul(K,v)\n",
        "            v = b / torch.matmul(K.T,u)\n",
        "        return torch.matmul(torch.diag_embed(u), torch.matmul(K, torch.diag_embed(v)))\n",
        "\n",
        "    def cost(self, batch_1, batch_2):\n",
        "        norm_1 = torch.norm(batch_1, p=2, dim=1).reshape(-1,1)\n",
        "        norm_2 = torch.norm(batch_2, p=2, dim=1).reshape(-1,1)\n",
        "        return - torch.matmul(batch_1, batch_2.transpose(0,1)) / (torch.matmul(norm_1, norm_2.transpose(0,1))) + 1\n",
        "        \n",
        "    def train(self, epochs=1000, print_interval=1):\n",
        "        \n",
        "        criterion = nn.BCELoss()  # Binary cross entropy: http://pytorch.org/docs/nn.html#bceloss\n",
        "        c_optimizer = optim.Adam(self.critic.parameters(), lr=0.0001)\n",
        "        g_optimizer = optim.Adam(self.generator.parameters(), lr=0.0001)\n",
        "        d_steps = 1\n",
        "        g_steps = 1\n",
        "        \n",
        "        for epoch in range(epochs):\n",
        "            \n",
        "            t=time()\n",
        "            loss_to_display = []\n",
        "            \n",
        "            for real_1, real_2 in self.dataloader:\n",
        "                \n",
        "                batch_size = real_1.shape[0]\n",
        "\n",
        "                self.critic.zero_grad()\n",
        "                self.generator.zero_grad()\n",
        "    \n",
        "                real_1 = real_1.type(torch.FloatTensor).to(device)\n",
        "                real_2 = real_2.type(torch.FloatTensor).to(device)\n",
        "                \n",
        "                z1 = torch.FloatTensor(np.random.randn(batch_size, self.z_dim)).to(device)\n",
        "                fake_1 = self.generator(z1)\n",
        "                z2 = torch.FloatTensor(np.random.randn(batch_size, self.z_dim)).to(device)\n",
        "                fake_2 = self.generator(z2)\n",
        "                \n",
        "                critic_real_1 = self.critic(real_1)\n",
        "                critic_real_2 = self.critic(real_2)\n",
        "                critic_fake_1 = self.critic(fake_1)\n",
        "                critic_fake_2 = self.critic(fake_2)\n",
        "\n",
        "                # Computing all matrices of costs\n",
        "\n",
        "                costs = torch.zeros((4, 4, batch_size, batch_size)).to(device)\n",
        "\n",
        "                costs[0,1] = self.cost(critic_real_1, critic_real_2)\n",
        "                costs[0,2] = self.cost(critic_real_1, critic_fake_1)\n",
        "                costs[0,3] = self.cost(critic_real_1, critic_fake_2)\n",
        "                costs[1,2] = self.cost(critic_real_2, critic_fake_1)\n",
        "                costs[1,3] = self.cost(critic_real_2, critic_fake_2)\n",
        "                costs[2,3] = self.cost(critic_fake_1, critic_fake_2)\n",
        "\n",
        "                # Computing optimal plans for all costs\n",
        "\n",
        "                a = (torch.ones(batch_size) / batch_size).to(device)\n",
        "                b = (torch.ones(batch_size) / batch_size).to(device)\n",
        "                \n",
        "                plans = torch.zeros((4,4, batch_size, batch_size)).to(device)\n",
        "                \n",
        "                plans[0,1] = self.sinkhorn(a, b, costs[0,1], reg=0.01)\n",
        "                plans[0,2] = self.sinkhorn(a, b, costs[0,2], reg=0.01)\n",
        "                plans[0,3] = self.sinkhorn(a, b, costs[0,3], reg=0.01)\n",
        "                plans[1,2] = self.sinkhorn(a, b, costs[1,2], reg=0.01)\n",
        "                plans[1,3] = self.sinkhorn(a, b, costs[1,3], reg=0.01)\n",
        "                plans[2,3] = self.sinkhorn(a, b, costs[2,3], reg=0.01)\n",
        "\n",
        "                # Computing losses\n",
        "                \n",
        "                losses = torch.zeros((4,4)).to(device)\n",
        "                \n",
        "                losses[0,1] = torch.sum(plans[0,1] * costs[0,1])\n",
        "                losses[0,2] = torch.sum(plans[0,2] * costs[0,2])\n",
        "                losses[0,3] = torch.sum(plans[0,3] * costs[0,3])\n",
        "                losses[1,2] = torch.sum(plans[1,2] * costs[1,2])\n",
        "                losses[1,3] = torch.sum(plans[1,3] * costs[1,3])\n",
        "                losses[2,3] = torch.sum(plans[2,3] * costs[2,3])\n",
        "                \n",
        "                \n",
        "                loss = losses[0,2] + losses[0,3] + losses[1,2] + losses[1,3] - 2 * losses[0,1] - 2 * losses[2,3]\n",
        "                \n",
        "                loss.backward()\n",
        "                c_optimizer.step()\n",
        "                g_optimizer.step()\n",
        "                \n",
        "                loss_to_display.append(float(loss.detach().cpu().numpy()))\n",
        "\n",
        "\n",
        "            if epoch % print_interval == 0:\n",
        "                print(\"Epoch %s: Loss %s;  time (%s)\" %\n",
        "                    (epoch, np.sum(loss_to_display), time()-t))\n",
        "                            \n",
        "            if epoch % (print_interval*5) == 0:\n",
        "                samples = self.sample_data(3)*256.\n",
        "                for img in samples:\n",
        "                    plt.figure()\n",
        "                    plt.imshow(img[:,:,0], cmap='gray')\n",
        "                    plt.show()\n",
        "\n"
      ],
      "execution_count": 0,
      "outputs": []
    },
    {
      "cell_type": "code",
      "metadata": {
        "id": "TUD5NnBhknTo",
        "colab_type": "code",
        "colab": {}
      },
      "source": [
        "img_shape = mnist_data[0].shape\n",
        "img_size = img_shape[0] * img_shape[1] * img_shape[2]\n",
        "\n",
        "z_dim = 32\n",
        "critic_dim = 32\n",
        "\n",
        "gen_params = (z_dim, 256, 512, img_size, img_shape)\n",
        "critic_params = (img_size, 512, 256, critic_dim)"
      ],
      "execution_count": 0,
      "outputs": []
    },
    {
      "cell_type": "code",
      "metadata": {
        "id": "kq3SurYekr2x",
        "colab_type": "code",
        "colab": {}
      },
      "source": [
        "gan = GAN(mnist_dataloader, gen_params, critic_params, z_dim)"
      ],
      "execution_count": 0,
      "outputs": []
    },
    {
      "cell_type": "code",
      "metadata": {
        "id": "iduT9C6bku0Q",
        "colab_type": "code",
        "outputId": "d8e951bf-76dc-480b-e9e5-98b35ac76b6b",
        "colab": {
          "base_uri": "https://localhost:8080/",
          "height": 844
        }
      },
      "source": [
        "gan.train(200)"
      ],
      "execution_count": 0,
      "outputs": [
        {
          "output_type": "stream",
          "text": [
            "torch.Size([4, 4, 128, 128])\n",
            "torch.Size([128, 128])\n",
            "torch.Size([4, 4, 128, 128])\n",
            "torch.Size([128, 128])\n",
            "torch.Size([4, 4, 128, 128])\n",
            "torch.Size([128, 128])\n",
            "torch.Size([4, 4, 128, 128])\n",
            "torch.Size([128, 128])\n",
            "torch.Size([4, 4, 128, 128])\n",
            "torch.Size([128, 128])\n",
            "torch.Size([4, 4, 128, 128])\n",
            "torch.Size([128, 128])\n",
            "torch.Size([4, 4, 128, 128])\n",
            "torch.Size([128, 128])\n",
            "torch.Size([4, 4, 128, 128])\n",
            "torch.Size([128, 128])\n",
            "torch.Size([4, 4, 128, 128])\n",
            "torch.Size([128, 128])\n",
            "torch.Size([4, 4, 128, 128])\n",
            "torch.Size([128, 128])\n",
            "torch.Size([4, 4, 128, 128])\n",
            "torch.Size([128, 128])\n",
            "torch.Size([4, 4, 128, 128])\n",
            "torch.Size([128, 128])\n",
            "torch.Size([4, 4, 128, 128])\n",
            "torch.Size([128, 128])\n",
            "torch.Size([4, 4, 128, 128])\n",
            "torch.Size([128, 128])\n"
          ],
          "name": "stdout"
        },
        {
          "output_type": "error",
          "ename": "KeyboardInterrupt",
          "evalue": "ignored",
          "traceback": [
            "\u001b[0;31m---------------------------------------------------------------------------\u001b[0m",
            "\u001b[0;31mKeyboardInterrupt\u001b[0m                         Traceback (most recent call last)",
            "\u001b[0;32m<ipython-input-15-1186d15efa1e>\u001b[0m in \u001b[0;36m<module>\u001b[0;34m()\u001b[0m\n\u001b[0;32m----> 1\u001b[0;31m \u001b[0mgan\u001b[0m\u001b[0;34m.\u001b[0m\u001b[0mtrain\u001b[0m\u001b[0;34m(\u001b[0m\u001b[0;36m200\u001b[0m\u001b[0;34m)\u001b[0m\u001b[0;34m\u001b[0m\u001b[0;34m\u001b[0m\u001b[0m\n\u001b[0m",
            "\u001b[0;32m<ipython-input-12-c71feeea3255>\u001b[0m in \u001b[0;36mtrain\u001b[0;34m(self, epochs, print_interval)\u001b[0m\n\u001b[1;32m    111\u001b[0m                 \u001b[0mloss\u001b[0m \u001b[0;34m=\u001b[0m \u001b[0mlosses\u001b[0m\u001b[0;34m[\u001b[0m\u001b[0;36m0\u001b[0m\u001b[0;34m,\u001b[0m\u001b[0;36m2\u001b[0m\u001b[0;34m]\u001b[0m \u001b[0;34m+\u001b[0m \u001b[0mlosses\u001b[0m\u001b[0;34m[\u001b[0m\u001b[0;36m0\u001b[0m\u001b[0;34m,\u001b[0m\u001b[0;36m3\u001b[0m\u001b[0;34m]\u001b[0m \u001b[0;34m+\u001b[0m \u001b[0mlosses\u001b[0m\u001b[0;34m[\u001b[0m\u001b[0;36m1\u001b[0m\u001b[0;34m,\u001b[0m\u001b[0;36m2\u001b[0m\u001b[0;34m]\u001b[0m \u001b[0;34m+\u001b[0m \u001b[0mlosses\u001b[0m\u001b[0;34m[\u001b[0m\u001b[0;36m1\u001b[0m\u001b[0;34m,\u001b[0m\u001b[0;36m3\u001b[0m\u001b[0;34m]\u001b[0m \u001b[0;34m-\u001b[0m \u001b[0;36m2\u001b[0m \u001b[0;34m*\u001b[0m \u001b[0mlosses\u001b[0m\u001b[0;34m[\u001b[0m\u001b[0;36m0\u001b[0m\u001b[0;34m,\u001b[0m\u001b[0;36m1\u001b[0m\u001b[0;34m]\u001b[0m \u001b[0;34m-\u001b[0m \u001b[0;36m2\u001b[0m \u001b[0;34m*\u001b[0m \u001b[0mlosses\u001b[0m\u001b[0;34m[\u001b[0m\u001b[0;36m2\u001b[0m\u001b[0;34m,\u001b[0m\u001b[0;36m3\u001b[0m\u001b[0;34m]\u001b[0m\u001b[0;34m\u001b[0m\u001b[0;34m\u001b[0m\u001b[0m\n\u001b[1;32m    112\u001b[0m \u001b[0;34m\u001b[0m\u001b[0m\n\u001b[0;32m--> 113\u001b[0;31m                 \u001b[0mloss\u001b[0m\u001b[0;34m.\u001b[0m\u001b[0mbackward\u001b[0m\u001b[0;34m(\u001b[0m\u001b[0;34m)\u001b[0m\u001b[0;34m\u001b[0m\u001b[0;34m\u001b[0m\u001b[0m\n\u001b[0m\u001b[1;32m    114\u001b[0m                 \u001b[0mc_optimizer\u001b[0m\u001b[0;34m.\u001b[0m\u001b[0mstep\u001b[0m\u001b[0;34m(\u001b[0m\u001b[0;34m)\u001b[0m\u001b[0;34m\u001b[0m\u001b[0;34m\u001b[0m\u001b[0m\n\u001b[1;32m    115\u001b[0m                 \u001b[0mg_optimizer\u001b[0m\u001b[0;34m.\u001b[0m\u001b[0mstep\u001b[0m\u001b[0;34m(\u001b[0m\u001b[0;34m)\u001b[0m\u001b[0;34m\u001b[0m\u001b[0;34m\u001b[0m\u001b[0m\n",
            "\u001b[0;32m/usr/local/lib/python3.6/dist-packages/torch/tensor.py\u001b[0m in \u001b[0;36mbackward\u001b[0;34m(self, gradient, retain_graph, create_graph)\u001b[0m\n\u001b[1;32m    196\u001b[0m                 \u001b[0mproducts\u001b[0m\u001b[0;34m.\u001b[0m \u001b[0mDefaults\u001b[0m \u001b[0mto\u001b[0m\u001b[0;31m \u001b[0m\u001b[0;31m`\u001b[0m\u001b[0;31m`\u001b[0m\u001b[0;32mFalse\u001b[0m\u001b[0;31m`\u001b[0m\u001b[0;31m`\u001b[0m\u001b[0;34m.\u001b[0m\u001b[0;34m\u001b[0m\u001b[0;34m\u001b[0m\u001b[0m\n\u001b[1;32m    197\u001b[0m         \"\"\"\n\u001b[0;32m--> 198\u001b[0;31m         \u001b[0mtorch\u001b[0m\u001b[0;34m.\u001b[0m\u001b[0mautograd\u001b[0m\u001b[0;34m.\u001b[0m\u001b[0mbackward\u001b[0m\u001b[0;34m(\u001b[0m\u001b[0mself\u001b[0m\u001b[0;34m,\u001b[0m \u001b[0mgradient\u001b[0m\u001b[0;34m,\u001b[0m \u001b[0mretain_graph\u001b[0m\u001b[0;34m,\u001b[0m \u001b[0mcreate_graph\u001b[0m\u001b[0;34m)\u001b[0m\u001b[0;34m\u001b[0m\u001b[0;34m\u001b[0m\u001b[0m\n\u001b[0m\u001b[1;32m    199\u001b[0m \u001b[0;34m\u001b[0m\u001b[0m\n\u001b[1;32m    200\u001b[0m     \u001b[0;32mdef\u001b[0m \u001b[0mregister_hook\u001b[0m\u001b[0;34m(\u001b[0m\u001b[0mself\u001b[0m\u001b[0;34m,\u001b[0m \u001b[0mhook\u001b[0m\u001b[0;34m)\u001b[0m\u001b[0;34m:\u001b[0m\u001b[0;34m\u001b[0m\u001b[0;34m\u001b[0m\u001b[0m\n",
            "\u001b[0;32m/usr/local/lib/python3.6/dist-packages/torch/autograd/__init__.py\u001b[0m in \u001b[0;36mbackward\u001b[0;34m(tensors, grad_tensors, retain_graph, create_graph, grad_variables)\u001b[0m\n\u001b[1;32m     98\u001b[0m     Variable._execution_engine.run_backward(\n\u001b[1;32m     99\u001b[0m         \u001b[0mtensors\u001b[0m\u001b[0;34m,\u001b[0m \u001b[0mgrad_tensors\u001b[0m\u001b[0;34m,\u001b[0m \u001b[0mretain_graph\u001b[0m\u001b[0;34m,\u001b[0m \u001b[0mcreate_graph\u001b[0m\u001b[0;34m,\u001b[0m\u001b[0;34m\u001b[0m\u001b[0;34m\u001b[0m\u001b[0m\n\u001b[0;32m--> 100\u001b[0;31m         allow_unreachable=True)  # allow_unreachable flag\n\u001b[0m\u001b[1;32m    101\u001b[0m \u001b[0;34m\u001b[0m\u001b[0m\n\u001b[1;32m    102\u001b[0m \u001b[0;34m\u001b[0m\u001b[0m\n",
            "\u001b[0;31mKeyboardInterrupt\u001b[0m: "
          ]
        }
      ]
    },
    {
      "cell_type": "code",
      "metadata": {
        "id": "1df9iv-Mkv-J",
        "colab_type": "code",
        "colab": {}
      },
      "source": [
        "samples = gan.sample_data(10)*0.5 + 0.5"
      ],
      "execution_count": 0,
      "outputs": []
    },
    {
      "cell_type": "code",
      "metadata": {
        "id": "Qp1-owumkxVa",
        "colab_type": "code",
        "colab": {}
      },
      "source": [
        "for img in samples:\n",
        "    plt.figure()\n",
        "    plt.imshow(img[:,:,0], cmap='gray')\n",
        "    plt.show()"
      ],
      "execution_count": 0,
      "outputs": []
    },
    {
      "cell_type": "code",
      "metadata": {
        "id": "4VaIg_qno0WI",
        "colab_type": "code",
        "colab": {}
      },
      "source": [
        ""
      ],
      "execution_count": 0,
      "outputs": []
    }
  ]
}